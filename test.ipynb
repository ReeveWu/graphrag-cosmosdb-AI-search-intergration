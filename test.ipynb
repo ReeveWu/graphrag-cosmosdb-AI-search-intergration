{
 "cells": [
  {
   "cell_type": "code",
   "execution_count": 1,
   "metadata": {},
   "outputs": [],
   "source": [
    "import pandas as pd"
   ]
  },
  {
   "cell_type": "code",
   "execution_count": 2,
   "metadata": {},
   "outputs": [],
   "source": [
    "# parquet files generated from indexing pipeline\n",
    "INPUT_DIR = \"./data/output\"\n",
    "COMMUNITY_REPORT_TABLE = \"create_final_community_reports\"\n",
    "ENTITY_TABLE = \"create_final_nodes\"\n",
    "ENTITY_EMBEDDING_TABLE = \"create_final_entities\"\n",
    "\n",
    "COMMUNITY_LEVEL = 2"
   ]
  },
  {
   "cell_type": "code",
   "execution_count": 3,
   "metadata": {},
   "outputs": [],
   "source": [
    "entity_embedding_df = pd.read_parquet(f\"{INPUT_DIR}/{ENTITY_EMBEDDING_TABLE}.parquet\")"
   ]
  },
  {
   "cell_type": "code",
   "execution_count": 4,
   "metadata": {},
   "outputs": [
    {
     "data": {
      "text/html": [
       "<div>\n",
       "<style scoped>\n",
       "    .dataframe tbody tr th:only-of-type {\n",
       "        vertical-align: middle;\n",
       "    }\n",
       "\n",
       "    .dataframe tbody tr th {\n",
       "        vertical-align: top;\n",
       "    }\n",
       "\n",
       "    .dataframe thead th {\n",
       "        text-align: right;\n",
       "    }\n",
       "</style>\n",
       "<table border=\"1\" class=\"dataframe\">\n",
       "  <thead>\n",
       "    <tr style=\"text-align: right;\">\n",
       "      <th></th>\n",
       "      <th>id</th>\n",
       "      <th>name</th>\n",
       "      <th>type</th>\n",
       "      <th>description</th>\n",
       "      <th>human_readable_id</th>\n",
       "      <th>graph_embedding</th>\n",
       "      <th>text_unit_ids</th>\n",
       "      <th>description_embedding</th>\n",
       "    </tr>\n",
       "  </thead>\n",
       "  <tbody>\n",
       "    <tr>\n",
       "      <th>0</th>\n",
       "      <td>678fe84e730c4dbb9041d09cd4424d77</td>\n",
       "      <td>CONTOSO ELECTRONICS</td>\n",
       "      <td>COMPANY</td>\n",
       "      <td>Contoso Electronics is a company offering its ...</td>\n",
       "      <td>0</td>\n",
       "      <td>None</td>\n",
       "      <td>[37dd1bd84166c8b007567caa2b9613bb]</td>\n",
       "      <td>[-0.013382545672357082, 0.03188391402363777, -...</td>\n",
       "    </tr>\n",
       "    <tr>\n",
       "      <th>1</th>\n",
       "      <td>ac81ca5f2d6a420da575c0fdc28cd208</td>\n",
       "      <td>NORTHWIND HEALTH PLUS</td>\n",
       "      <td>HEALTH INSURANCE PLAN</td>\n",
       "      <td>Northwind Health Plus is a comprehensive healt...</td>\n",
       "      <td>1</td>\n",
       "      <td>None</td>\n",
       "      <td>[37dd1bd84166c8b007567caa2b9613bb]</td>\n",
       "      <td>[-0.0027700283098965883, 0.02687487006187439, ...</td>\n",
       "    </tr>\n",
       "    <tr>\n",
       "      <th>2</th>\n",
       "      <td>fafb729734b24f7f81e1b4842247e6c2</td>\n",
       "      <td>NORTHWIND STANDARD</td>\n",
       "      <td>HEALTH INSURANCE PLAN</td>\n",
       "      <td>Northwind Standard is a basic health insurance...</td>\n",
       "      <td>2</td>\n",
       "      <td>None</td>\n",
       "      <td>[37dd1bd84166c8b007567caa2b9613bb]</td>\n",
       "      <td>[-0.02115749754011631, 0.02086535096168518, -0...</td>\n",
       "    </tr>\n",
       "    <tr>\n",
       "      <th>3</th>\n",
       "      <td>e7e9f896657c4856b4ec5ee685388bfa</td>\n",
       "      <td>MICROSOFT</td>\n",
       "      <td>COMPANY</td>\n",
       "      <td>Microsoft is the company that generated the do...</td>\n",
       "      <td>3</td>\n",
       "      <td>None</td>\n",
       "      <td>[37dd1bd84166c8b007567caa2b9613bb]</td>\n",
       "      <td>[-0.007386181503534317, -0.02583981119096279, ...</td>\n",
       "    </tr>\n",
       "    <tr>\n",
       "      <th>4</th>\n",
       "      <td>1473f722853b477b91e3ce7bf0613511</td>\n",
       "      <td>AZURE OPENAI</td>\n",
       "      <td></td>\n",
       "      <td></td>\n",
       "      <td>4</td>\n",
       "      <td>None</td>\n",
       "      <td>[37dd1bd84166c8b007567caa2b9613bb]</td>\n",
       "      <td>[-0.00208410806953907, -0.00402606837451458, -...</td>\n",
       "    </tr>\n",
       "  </tbody>\n",
       "</table>\n",
       "</div>"
      ],
      "text/plain": [
       "                                 id                   name  \\\n",
       "0  678fe84e730c4dbb9041d09cd4424d77    CONTOSO ELECTRONICS   \n",
       "1  ac81ca5f2d6a420da575c0fdc28cd208  NORTHWIND HEALTH PLUS   \n",
       "2  fafb729734b24f7f81e1b4842247e6c2     NORTHWIND STANDARD   \n",
       "3  e7e9f896657c4856b4ec5ee685388bfa              MICROSOFT   \n",
       "4  1473f722853b477b91e3ce7bf0613511           AZURE OPENAI   \n",
       "\n",
       "                    type                                        description  \\\n",
       "0                COMPANY  Contoso Electronics is a company offering its ...   \n",
       "1  HEALTH INSURANCE PLAN  Northwind Health Plus is a comprehensive healt...   \n",
       "2  HEALTH INSURANCE PLAN  Northwind Standard is a basic health insurance...   \n",
       "3                COMPANY  Microsoft is the company that generated the do...   \n",
       "4                                                                             \n",
       "\n",
       "   human_readable_id graph_embedding                       text_unit_ids  \\\n",
       "0                  0            None  [37dd1bd84166c8b007567caa2b9613bb]   \n",
       "1                  1            None  [37dd1bd84166c8b007567caa2b9613bb]   \n",
       "2                  2            None  [37dd1bd84166c8b007567caa2b9613bb]   \n",
       "3                  3            None  [37dd1bd84166c8b007567caa2b9613bb]   \n",
       "4                  4            None  [37dd1bd84166c8b007567caa2b9613bb]   \n",
       "\n",
       "                               description_embedding  \n",
       "0  [-0.013382545672357082, 0.03188391402363777, -...  \n",
       "1  [-0.0027700283098965883, 0.02687487006187439, ...  \n",
       "2  [-0.02115749754011631, 0.02086535096168518, -0...  \n",
       "3  [-0.007386181503534317, -0.02583981119096279, ...  \n",
       "4  [-0.00208410806953907, -0.00402606837451458, -...  "
      ]
     },
     "execution_count": 4,
     "metadata": {},
     "output_type": "execute_result"
    }
   ],
   "source": [
    "entity_embedding_df.head()"
   ]
  },
  {
   "cell_type": "code",
   "execution_count": 6,
   "metadata": {},
   "outputs": [
    {
     "data": {
      "text/plain": [
       "(5, 8)"
      ]
     },
     "execution_count": 6,
     "metadata": {},
     "output_type": "execute_result"
    }
   ],
   "source": [
    "entity_embedding_df.shape"
   ]
  },
  {
   "cell_type": "code",
   "execution_count": 5,
   "metadata": {},
   "outputs": [
    {
     "data": {
      "text/plain": [
       "(8, 8)"
      ]
     },
     "execution_count": 5,
     "metadata": {},
     "output_type": "execute_result"
    }
   ],
   "source": [
    "entity_embedding_df.shape"
   ]
  },
  {
   "cell_type": "code",
   "execution_count": 11,
   "metadata": {},
   "outputs": [],
   "source": [
    "final_results = []\n",
    "\n",
    "for _, row in entity_embedding_df.iterrows():\n",
    "    final_results.append({\n",
    "        'id': row['id'],\n",
    "        'name': row['name'],\n",
    "        'type': row['type'],\n",
    "        'description': row['description'],\n",
    "        'human_readable_id': row['human_readable_id'],\n",
    "        'description_embedding': row['description_embedding'].tolist(),\n",
    "    })"
   ]
  },
  {
   "cell_type": "code",
   "execution_count": 13,
   "metadata": {},
   "outputs": [
    {
     "data": {
      "text/plain": [
       "5"
      ]
     },
     "execution_count": 13,
     "metadata": {},
     "output_type": "execute_result"
    }
   ],
   "source": [
    "len(final_results)"
   ]
  },
  {
   "cell_type": "code",
   "execution_count": null,
   "metadata": {},
   "outputs": [],
   "source": []
  }
 ],
 "metadata": {
  "kernelspec": {
   "display_name": ".venv",
   "language": "python",
   "name": "python3"
  },
  "language_info": {
   "codemirror_mode": {
    "name": "ipython",
    "version": 3
   },
   "file_extension": ".py",
   "mimetype": "text/x-python",
   "name": "python",
   "nbconvert_exporter": "python",
   "pygments_lexer": "ipython3",
   "version": "3.10.11"
  }
 },
 "nbformat": 4,
 "nbformat_minor": 2
}
